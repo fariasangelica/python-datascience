{
 "cells": [
  {
   "cell_type": "code",
   "execution_count": 5,
   "id": "bd15eb94-0f7d-40c1-b7e9-6170149afa0d",
   "metadata": {},
   "outputs": [],
   "source": [
    "# Recebemos uma variábel com o nome de uma professora da escola para inserirmos no cadastro. No entanto, precisamos tratar esse texto antes de inserirmos no sistema\n",
    "texto = ' Geovana Alessandra dias Sanyos '"
   ]
  },
  {
   "cell_type": "code",
   "execution_count": null,
   "id": "590a4634-8e61-4a39-b831-b60da9625453",
   "metadata": {},
   "outputs": [],
   "source": [
    "# O objetivo final é que o nome esteja da seguinte forma:\n",
    "'GEOVAMA ALESSANDRA DIAS SANTOS'"
   ]
  },
  {
   "cell_type": "code",
   "execution_count": 9,
   "id": "3aca420c-6d4e-4c51-8492-1c0ebd27cb01",
   "metadata": {},
   "outputs": [
    {
     "data": {
      "text/plain": [
       "' GEOVANA ALESSANDRA DIAS SANYOS'"
      ]
     },
     "execution_count": 9,
     "metadata": {},
     "output_type": "execute_result"
    }
   ],
   "source": [
    "# str.upper()\n",
    "# Converte uma string para maiúsculas.\n",
    "texto.upper()"
   ]
  },
  {
   "cell_type": "code",
   "execution_count": 11,
   "id": "7f75b0cf-c854-41cc-a7f6-692d054aed8f",
   "metadata": {},
   "outputs": [
    {
     "data": {
      "text/plain": [
       "' geovana alessandra dias sanyos'"
      ]
     },
     "execution_count": 11,
     "metadata": {},
     "output_type": "execute_result"
    }
   ],
   "source": [
    "# str.lower()\n",
    "# Método converte uma string para minúsculas.\n",
    "texto.lower()"
   ]
  },
  {
   "cell_type": "code",
   "execution_count": 17,
   "id": "09b50513-6a59-42ce-81a0-d22386352d63",
   "metadata": {},
   "outputs": [
    {
     "data": {
      "text/plain": [
       "'Geovana Alessandra dias Sanyos'"
      ]
     },
     "execution_count": 17,
     "metadata": {},
     "output_type": "execute_result"
    }
   ],
   "source": [
    "# str.strip()\n",
    "# Método remove os espaços em branco do ínicio e do fim de uma string.\n",
    "texto.strip()"
   ]
  },
  {
   "cell_type": "code",
   "execution_count": 23,
   "id": "7575ed41-0d9c-4ab0-ab77-742ccc872515",
   "metadata": {},
   "outputs": [
    {
     "data": {
      "text/plain": [
       "' Geovana Alessandra dias Santos'"
      ]
     },
     "execution_count": 23,
     "metadata": {},
     "output_type": "execute_result"
    }
   ],
   "source": [
    "# str.replace(antigo, novo)\n",
    "texto.replace('y', 't')"
   ]
  },
  {
   "cell_type": "code",
   "execution_count": 31,
   "id": "fe0b97e4-5076-45b0-b1c8-6b9dd3d09be9",
   "metadata": {},
   "outputs": [
    {
     "data": {
      "text/plain": [
       "'GEOVANA ALESSANDRA DIAS SANTOS'"
      ]
     },
     "execution_count": 31,
     "metadata": {},
     "output_type": "execute_result"
    }
   ],
   "source": [
    "# Observações\n",
    " #1. Os métodos retornam uma transformação, não a executam no texto!\n",
    " #2. Além disso, podemos acumular a execução de métodos.\n",
    "\n",
    "# Para que seja executada a transformação, nós podemos atribuir às saídas das transformações à variável\n",
    "texto = texto.strip().replace('y','t').upper()\n",
    "texto"
   ]
  },
  {
   "cell_type": "code",
   "execution_count": null,
   "id": "e59af734-ed15-4372-950d-2672d99f88d2",
   "metadata": {},
   "outputs": [],
   "source": []
  }
 ],
 "metadata": {
  "kernelspec": {
   "display_name": "Python 3 (ipykernel)",
   "language": "python",
   "name": "python3"
  },
  "language_info": {
   "codemirror_mode": {
    "name": "ipython",
    "version": 3
   },
   "file_extension": ".py",
   "mimetype": "text/x-python",
   "name": "python",
   "nbconvert_exporter": "python",
   "pygments_lexer": "ipython3",
   "version": "3.12.4"
  }
 },
 "nbformat": 4,
 "nbformat_minor": 5
}
