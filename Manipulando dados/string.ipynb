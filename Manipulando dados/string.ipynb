{
 "cells": [
  {
   "cell_type": "code",
   "execution_count": 5,
   "id": "bd15eb94-0f7d-40c1-b7e9-6170149afa0d",
   "metadata": {},
   "outputs": [],
   "source": [
    "# Recebemos uma variábel com o nome de uma professora da escola para inserirmos no cadastro. No entanto, precisamos tratar esse texto antes de inserirmos no sistema\n",
    "texto = ' Geovana Alessandra dias Sanyos '"
   ]
  },
  {
   "cell_type": "code",
   "execution_count": null,
   "id": "590a4634-8e61-4a39-b831-b60da9625453",
   "metadata": {},
   "outputs": [],
   "source": [
    "# O objetivo final é que o nome esteja da seguinte forma:\n",
    "'GEOVAMA ALESSANDRA DIAS SANTOS'"
   ]
  },
  {
   "cell_type": "code",
   "execution_count": 9,
   "id": "3aca420c-6d4e-4c51-8492-1c0ebd27cb01",
   "metadata": {},
   "outputs": [
    {
     "data": {
      "text/plain": [
       "' GEOVANA ALESSANDRA DIAS SANYOS'"
      ]
     },
     "execution_count": 9,
     "metadata": {},
     "output_type": "execute_result"
    }
   ],
   "source": [
    "# str.upper()\n",
    "# Converte uma string para maiúsculas.\n",
    "texto.upper()"
   ]
  },
  {
   "cell_type": "code",
   "execution_count": 11,
   "id": "7f75b0cf-c854-41cc-a7f6-692d054aed8f",
   "metadata": {},
   "outputs": [
    {
     "data": {
      "text/plain": [
       "' geovana alessandra dias sanyos'"
      ]
     },
     "execution_count": 11,
     "metadata": {},
     "output_type": "execute_result"
    }
   ],
   "source": [
    "# str.lower()\n",
    "# Método converte uma string para minúsculas.\n",
    "texto.lower()"
   ]
  },
  {
   "cell_type": "code",
   "execution_count": 17,
   "id": "09b50513-6a59-42ce-81a0-d22386352d63",
   "metadata": {},
   "outputs": [
    {
     "data": {
      "text/plain": [
       "'Geovana Alessandra dias Sanyos'"
      ]
     },
     "execution_count": 17,
     "metadata": {},
     "output_type": "execute_result"
    }
   ],
   "source": [
    "# str.strip()\n",
    "# Método remove os espaços em branco do ínicio e do fim de uma string.\n",
    "texto.strip()"
   ]
  },
  {
   "cell_type": "code",
   "execution_count": 23,
   "id": "7575ed41-0d9c-4ab0-ab77-742ccc872515",
   "metadata": {},
   "outputs": [
    {
     "data": {
      "text/plain": [
       "' Geovana Alessandra dias Santos'"
      ]
     },
     "execution_count": 23,
     "metadata": {},
     "output_type": "execute_result"
    }
   ],
   "source": [
    "# str.replace(antigo, novo)\n",
    "texto.replace('y', 't')"
   ]
  },
  {
   "cell_type": "code",
   "execution_count": 31,
   "id": "fe0b97e4-5076-45b0-b1c8-6b9dd3d09be9",
   "metadata": {},
   "outputs": [
    {
     "data": {
      "text/plain": [
       "'GEOVANA ALESSANDRA DIAS SANTOS'"
      ]
     },
     "execution_count": 31,
     "metadata": {},
     "output_type": "execute_result"
    }
   ],
   "source": [
    "# Observações\n",
    " #1. Os métodos retornam uma transformação, não a executam no texto!\n",
    " #2. Além disso, podemos acumular a execução de métodos.\n",
    "\n",
    "# Para que seja executada a transformação, nós podemos atribuir às saídas das transformações à variável\n",
    "texto = texto.strip().replace('y','t').upper()\n",
    "texto"
   ]
  },
  {
   "cell_type": "code",
   "execution_count": 1,
   "id": "d5fd953a-c7d0-4911-bf38-69f31f9d941e",
   "metadata": {},
   "outputs": [
    {
     "name": "stdin",
     "output_type": "stream",
     "text": [
      "Escreva seu nome:  Angel\n"
     ]
    }
   ],
   "source": [
    "# Input\n",
    "nome = input('Escreva seu nome: ')"
   ]
  },
  {
   "cell_type": "code",
   "execution_count": 3,
   "id": "da2cb523-b81e-4239-bd25-1d706208d8f7",
   "metadata": {},
   "outputs": [
    {
     "data": {
      "text/plain": [
       "'Angel'"
      ]
     },
     "execution_count": 3,
     "metadata": {},
     "output_type": "execute_result"
    }
   ],
   "source": [
    "nome"
   ]
  },
  {
   "cell_type": "code",
   "execution_count": 5,
   "id": "201e6197-00e3-4990-bd01-3018fa133dce",
   "metadata": {},
   "outputs": [
    {
     "name": "stdin",
     "output_type": "stream",
     "text": [
      "Escreva o ano de ingresso do(a) estudante:  2023\n"
     ]
    }
   ],
   "source": [
    "# Tipo inteiro\n",
    "ano_entrada = input('Escreva o ano de ingresso do(a) estudante: ')"
   ]
  },
  {
   "cell_type": "code",
   "execution_count": 7,
   "id": "bf432c0d-cb87-4767-ac4e-4ff2f82c4e6a",
   "metadata": {},
   "outputs": [
    {
     "data": {
      "text/plain": [
       "str"
      ]
     },
     "execution_count": 7,
     "metadata": {},
     "output_type": "execute_result"
    }
   ],
   "source": [
    "type(ano_entrada)"
   ]
  },
  {
   "cell_type": "code",
   "execution_count": 9,
   "id": "2c39f2da-d1d6-4441-9e5c-ee0e10dff680",
   "metadata": {},
   "outputs": [
    {
     "name": "stdin",
     "output_type": "stream",
     "text": [
      "Escreva o ano de ingresso do(a) estudante:  2023\n"
     ]
    }
   ],
   "source": [
    "ano_entrada = int(input('Escreva o ano de ingresso do(a) estudante: '))"
   ]
  },
  {
   "cell_type": "code",
   "execution_count": 17,
   "id": "8d05b334-8a28-4161-a840-7d5ee2478f96",
   "metadata": {},
   "outputs": [
    {
     "name": "stdin",
     "output_type": "stream",
     "text": [
      "Digite a nota do teste de ingresso:  9.0\n"
     ]
    },
    {
     "name": "stdout",
     "output_type": "stream",
     "text": [
      "Ano de entrada 2023 - nota do teste de ingresso 9.0\n"
     ]
    }
   ],
   "source": [
    "nota_entrada = float(input('Digite a nota do teste de ingresso: '))\n",
    "print(f'Ano de entrada {ano_entrada} - nota do teste de ingresso {nota_entrada}')"
   ]
  }
 ],
 "metadata": {
  "kernelspec": {
   "display_name": "Python 3 (ipykernel)",
   "language": "python",
   "name": "python3"
  },
  "language_info": {
   "codemirror_mode": {
    "name": "ipython",
    "version": 3
   },
   "file_extension": ".py",
   "mimetype": "text/x-python",
   "name": "python",
   "nbconvert_exporter": "python",
   "pygments_lexer": "ipython3",
   "version": "3.12.4"
  }
 },
 "nbformat": 4,
 "nbformat_minor": 5
}
